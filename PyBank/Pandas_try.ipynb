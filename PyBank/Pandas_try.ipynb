{
 "cells": [
  {
   "cell_type": "code",
   "execution_count": 1,
   "metadata": {},
   "outputs": [],
   "source": [
    "import pandas as pd"
   ]
  },
  {
   "cell_type": "code",
   "execution_count": 2,
   "metadata": {},
   "outputs": [],
   "source": [
    "pl_df = pd.read_csv(\"budget_data.csv\")"
   ]
  },
  {
   "cell_type": "code",
   "execution_count": 3,
   "metadata": {},
   "outputs": [],
   "source": [
    "Months = pl_df[\"Profit/Losses\"].count()\n",
    "Total = pl_df[\"Profit/Losses\"].sum()"
   ]
  },
  {
   "cell_type": "code",
   "execution_count": 4,
   "metadata": {},
   "outputs": [],
   "source": [
    "pl_df[\"changes\"] = pl_df[\"Profit/Losses\"].diff()"
   ]
  },
  {
   "cell_type": "code",
   "execution_count": 5,
   "metadata": {},
   "outputs": [],
   "source": [
    "max_increase = pl_df[\"changes\"].max()\n",
    "max_month = pl_df.loc[pl_df[\"changes\"].idxmax(),[\"Date\"]].values[0]\n",
    "min_increase = pl_df[\"changes\"].min()\n",
    "min_month = pl_df.loc[pl_df[\"changes\"].idxmin(),[\"Date\"]].values[0]"
   ]
  },
  {
   "cell_type": "code",
   "execution_count": 6,
   "metadata": {},
   "outputs": [
    {
     "name": "stdout",
     "output_type": "stream",
     "text": [
      "Financial Analysis\n",
      "--------------------------------\n",
      "Total months: 86\n",
      "Total: 38,382,578\n",
      "Average change: -2,315.12\n",
      "Greatest Increase in Profits: Feb-2012 ($1,926,159.0) \n",
      "Greatest Decrease in Profits: Sep-2013 ($-2,196,167.0) \n",
      "\n"
     ]
    }
   ],
   "source": [
    "print(f\"\"\"Financial Analysis\n",
    "--------------------------------\n",
    "Total months: {Months}\n",
    "Total: {Total:,}\n",
    "Average change: {round(pl_df[\"changes\"].mean(),2):,}\n",
    "Greatest Increase in Profits: {max_month} (${max_increase:,}) \n",
    "Greatest Decrease in Profits: {min_month} (${min_increase:,}) \n",
    "\"\"\")"
   ]
  },
  {
   "cell_type": "code",
   "execution_count": null,
   "metadata": {},
   "outputs": [],
   "source": []
  },
  {
   "cell_type": "code",
   "execution_count": null,
   "metadata": {},
   "outputs": [],
   "source": []
  }
 ],
 "metadata": {
  "kernelspec": {
   "display_name": "Python 3",
   "language": "python",
   "name": "python3"
  },
  "language_info": {
   "codemirror_mode": {
    "name": "ipython",
    "version": 3
   },
   "file_extension": ".py",
   "mimetype": "text/x-python",
   "name": "python",
   "nbconvert_exporter": "python",
   "pygments_lexer": "ipython3",
   "version": "3.7.4"
  }
 },
 "nbformat": 4,
 "nbformat_minor": 2
}
